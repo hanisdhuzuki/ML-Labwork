{
  "nbformat": 4,
  "nbformat_minor": 0,
  "metadata": {
    "colab": {
      "provenance": [],
      "authorship_tag": "ABX9TyMjRmOyReMuVv1zshdN5Hts"
    },
    "kernelspec": {
      "name": "python3",
      "display_name": "Python 3"
    },
    "language_info": {
      "name": "python"
    }
  },
  "cells": [
    {
      "cell_type": "code",
      "execution_count": 124,
      "metadata": {
        "id": "ZEJ8xAceorVR"
      },
      "outputs": [],
      "source": [
        "import pandas as pd\n",
        "import seaborn as sns\n",
        "import matplotlib.pyplot as plt\n"
      ]
    },
    {
      "cell_type": "code",
      "source": [
        "df = pd.read_csv('AW_BikeBuyer.csv')"
      ],
      "metadata": {
        "id": "mVpALSXMredO"
      },
      "execution_count": 125,
      "outputs": []
    },
    {
      "cell_type": "code",
      "source": [
        "print(df)\n"
      ],
      "metadata": {
        "colab": {
          "base_uri": "https://localhost:8080/"
        },
        "id": "KhiGWqHSr5Oo",
        "outputId": "6fa4a5f4-4275-4340-94f2-9cbe0b434687"
      },
      "execution_count": 126,
      "outputs": [
        {
          "output_type": "stream",
          "name": "stdout",
          "text": [
            "       CustomerID  BikeBuyer\n",
            "0           11000          0\n",
            "1           11001          1\n",
            "2           11002          0\n",
            "3           11003          0\n",
            "4           11004          1\n",
            "...           ...        ...\n",
            "16514       13121          0\n",
            "16515       26100          0\n",
            "16516       11328          0\n",
            "16517       23077          0\n",
            "16518       18982          0\n",
            "\n",
            "[16519 rows x 2 columns]\n"
          ]
        }
      ]
    },
    {
      "cell_type": "code",
      "source": [
        "#replace missing values\n",
        "df = df.fillna(method='ffill')\n",
        "\n",
        "#remove duplicate \n",
        "df.drop_duplicates(subset = 'CustomerID', inplace = True)"
      ],
      "metadata": {
        "id": "e4mItNJ3sDTx"
      },
      "execution_count": 127,
      "outputs": []
    },
    {
      "cell_type": "code",
      "source": [
        "from sklearn.model_selection import train_test_split\n",
        "from sklearn.linear_model import LogisticRegression\n",
        "from sklearn.metrics import confusion_matrix\n",
        "\n",
        "# Split the data into features (X) and target (y)\n",
        "X = df.drop(['BikeBuyer'], axis=1)\n",
        "y = df['BikeBuyer']\n",
        "\n",
        "# Choose a classification algorithm and initialize the model\n",
        "model = LogisticRegression()\n",
        "\n",
        "# Split the data into training and testing sets\n",
        "X_train, X_test, y_train, y_test = train_test_split(X, y, test_size=0.2, random_state=42)\n",
        "\n",
        "# Train the model\n",
        "model.fit(X_train, y_train)\n",
        "\n",
        "# Make predictions on the testing set\n",
        "y_pred = model.predict(X_test)\n",
        "\n",
        "# Evaluate the model\n",
        "confusion_matrix = confusion_matrix(y_test, y_pred)\n",
        "print(confusion_matrix)\n"
      ],
      "metadata": {
        "colab": {
          "base_uri": "https://localhost:8080/"
        },
        "id": "s9NOrhbxNO_O",
        "outputId": "fd0628ec-7d95-4709-e389-2e4fb9faa10a"
      },
      "execution_count": 128,
      "outputs": [
        {
          "output_type": "stream",
          "name": "stdout",
          "text": [
            "[[2211    0]\n",
            " [1070    0]]\n"
          ]
        }
      ]
    },
    {
      "cell_type": "code",
      "source": [
        "test_data = pd.read_csv('AW_test.csv')"
      ],
      "metadata": {
        "id": "5W8xpchIR6A-"
      },
      "execution_count": 129,
      "outputs": []
    },
    {
      "cell_type": "code",
      "source": [
        "# Check for missing values in the test data\n",
        "test_data.isnull().sum()\n",
        "\n",
        "# Fill missing values with appropriate measures\n",
        "test_data = test_data.fillna(method='ffill')  # Forward fill missing values\n"
      ],
      "metadata": {
        "id": "DDT0wMQqSKu2"
      },
      "execution_count": 130,
      "outputs": []
    },
    {
      "cell_type": "code",
      "source": [
        "#remove duplicate \n",
        "df.drop_duplicates(subset = 'CustomerID', inplace = True)"
      ],
      "metadata": {
        "id": "ukNC3XsbSXYQ"
      },
      "execution_count": 131,
      "outputs": []
    },
    {
      "cell_type": "code",
      "source": [
        "test_data = test_data[X.columns]\n",
        "# Make predictions on the test data\n",
        "test_predictions = model.predict(test_data)"
      ],
      "metadata": {
        "id": "7XFgHXXBhG5E"
      },
      "execution_count": 137,
      "outputs": []
    },
    {
      "cell_type": "code",
      "source": [
        "predictions = pd.DataFrame({'Customer ID': test_data['CustomerID'], 'BikeBuyer': test_predictions})"
      ],
      "metadata": {
        "id": "7U-xs3ngTWWH"
      },
      "execution_count": 138,
      "outputs": []
    },
    {
      "cell_type": "code",
      "source": [
        "predictions.to_csv('predictions.csv', index=False)"
      ],
      "metadata": {
        "id": "ed7RA0lbT55T"
      },
      "execution_count": 139,
      "outputs": []
    }
  ]
}